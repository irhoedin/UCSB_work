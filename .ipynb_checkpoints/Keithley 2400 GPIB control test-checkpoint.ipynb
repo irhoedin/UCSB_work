{
 "cells": [
  {
   "cell_type": "markdown",
   "metadata": {},
   "source": [
    "# Playing with GPIB instruments (like a source meter) with my MacBookPro\n",
    "\n",
    "12/25/2016\n",
    "\n",
    "## Installation\n",
    "\n",
    "Here's some softwares to be installed.\n",
    "\n",
    "- Pyvisa (install through pip command)\n",
    "- NI-VISA\n",
    "- NI-488 (gives NI-MAX, a driver for GPIB instruments)\n",
    "\n",
    "\n",
    "1. Open \"NI-MAX\".\n",
    "1. Connect a USB cable which connects your Mac and GPIB instruments. Note that this USB-GPIB connector/converter should be made by NI.\n",
    "1. Confirm that all instruments on the GPIB chain appear on the Hardware Configration list in NI-MAX.\n",
    "1. Now type thw following"
   ]
  },
  {
   "cell_type": "code",
   "execution_count": 3,
   "metadata": {
    "collapsed": false
   },
   "outputs": [],
   "source": [
    "import visa\n",
    "rm = visa.ResourceManager(\"/Library/Frameworks/Visa.framework/VISA\")\n",
    "rm.list_resources()\n",
    "my_instrument = rm.open_resource('GPIB0::13::INSTR')\n"
   ]
  },
  {
   "cell_type": "code",
   "execution_count": 4,
   "metadata": {
    "collapsed": false
   },
   "outputs": [
    {
     "name": "stdout",
     "output_type": "stream",
     "text": [
      "KEITHLEY INSTRUMENTS INC.,MODEL 2400,1386470,C32   Oct  4 2010 14:20:11/A02  /S/K\n",
      "\n"
     ]
    }
   ],
   "source": [
    "print(my_instrument.query(\"*IDN?\"))"
   ]
  },
  {
   "cell_type": "code",
   "execution_count": null,
   "metadata": {
    "collapsed": false
   },
   "outputs": [],
   "source": [
    "# JPN manual p.10-17\n",
    "import time \n",
    "\n",
    "\n",
    "def iv_sweep(v_start, v_end, v_step, sdel=0.05, cmpl=0.1, nplc=1):\n",
    "    \"\"\"do I-V sweep on Keitheley 2400 source meter.\n",
    "    \n",
    "    Args:\n",
    "    v_start: float, start voltage [V]\n",
    "    v_end: float, end voltage [V]\n",
    "    v_step: float, voltage steps [V]\n",
    "    sdel: float, source delay [s]\n",
    "    cmpl: float, compliance current [A]\n",
    "    nplc: integer, Number of Power Line cycles (integration time)\n",
    "        nplc = 1 is 16.67 (1/60) msec \n",
    "    \n",
    "    Ret:\n",
    "    output: pd.DataFrame with the columns of [voltage, , , , ]\n",
    "    \"\"\"\n",
    "    s_v_start = str(v_start)\n",
    "    s_v_end = str(v_end)\n",
    "    s_v_step = str(v_step)\n",
    "    s_sdel = str(sdel)\n",
    "    s_cmpl = str(cmpl)\n",
    "    \n",
    "    trg_cnt = round(abs(v_start - v_end)/v_step + 1)\n",
    "    s_trg_cnt = str(trg_cnt)\n",
    "    \n",
    "    s_nplc = str(nplc)\n",
    "    \n",
    "    sweep_time = (sdel + nplc * 16.67/1000 + 0.3) * trg_cnt\n",
    "    \n",
    "    print 'est. scan time = %f [s]' %sweep_time\n",
    "    \n",
    "    inpt = my_instrument.write('*RST') #reset\n",
    "    inpt = my_instrument.write(':SOUR:CLE:AUTO ON') #set auto out-put off\n",
    "    inpt = my_instrument.write(':SENS:FUNC \\'CURR:DC\\'') # sense DC current\n",
    "    inpt = my_instrument.write(':SENS:CURR:DC:NPLCycles ' + s_nplc)\n",
    "    inpt = my_instrument.write(':SENS:CURR:PROT ' + s_cmpl) #set compliance\n",
    "    inpt = my_instrument.write(':SOUR:VOLT:START ' + s_v_start) #set votage start\n",
    "    inpt = my_instrument.write(':SOUR:VOLT:STOP ' + s_v_end) #set voltage end\n",
    "    inpt = my_instrument.write(':SOUR:VOLT:STEP ' + s_v_step) #set voltage step\n",
    "    inpt = my_instrument.write(':SOUR:VOLT:MODE SWE') #set sweep mode\n",
    "    inpt = my_instrument.write(':TRIG:COUN ' + s_trg_cnt) #set triger count = (start-end)/step + 1\n",
    "    inpt = my_instrument.write(':SOUR:DEL ' + s_sdel) #set source delay\n",
    "    #inpt = my_instrument.write(':OUTPUT ON') \n",
    "    inpt = my_instrument.write(':INIT') #start sweep\n",
    "    \n",
    "    time.sleep(sweep_time)\n",
    "    output = my_instrument.query(':FETC?')\n",
    "    \n",
    "    newout = output.encode('utf-8') #convert unicode to byte literal\n",
    "    print len(newout.split(','))\n",
    "    return newout\n",
    "\n",
    "a = iv_sweep(-1, 1, 0.01)"
   ]
  },
  {
   "cell_type": "markdown",
   "metadata": {},
   "source": [
    "#Todo 12/26\n",
    "- write a function for sweep test (with full\n",
    "- make a module for 2400 source meter\n",
    "- make a module for 6220 Precision current source\n",
    "- figure out what 'READ?' output includes? Five values are recorded at each steps."
   ]
  },
  {
   "cell_type": "code",
   "execution_count": 77,
   "metadata": {
    "collapsed": false
   },
   "outputs": [
    {
     "name": "stdout",
     "output_type": "stream",
     "text": [
      "+6.000000E-01,-1.810068E-10,+9.910000E+37,+7.133653E+03,+2.150800E+04,+6.100000E-01,-1.912942E-10,+9.910000E+37,+7.133750E+03,+2.150800E+04,+6.200000E-01,-2.031874E-10,+9.910000E+37,+7.133848E+03,+2.150800E+04,+6.300000E-01,-1.964630E-10,+9.910000E+37,+7.133943E+03,+2.150800E+04,+6.400000E-01,-1.991226E-10,+9.910000E+37,+7.134041E+03,+2.150800E+04,+6.500000E-01,-1.871792E-10,+9.910000E+37,+7.134137E+03,+2.150800E+04,+6.600000E-01,-1.861756E-10,+9.910000E+37,+7.134232E+03,+2.150800E+04,+6.700000E-01,-1.946062E-10,+9.910000E+37,+7.134330E+03,+2.150800E+04,+6.800000E-01,-1.948571E-10,+9.910000E+37,+7.134426E+03,+2.150800E+04,+6.900000E-01,-1.912942E-10,+9.910000E+37,+7.134523E+03,+2.150800E+04,+7.000000E-01,-1.907422E-10,+9.910000E+37,+7.134619E+03,+2.150800E+04,+7.100000E-01,-1.949575E-10,+9.910000E+37,+7.134716E+03,+2.150800E+04,+7.200000E-01,-1.918964E-10,+9.910000E+37,+7.134812E+03,+2.150800E+04,+7.300000E-01,-1.987714E-10,+9.910000E+37,+7.134909E+03,+2.150800E+04,+7.400000E-01,-2.045925E-10,+9.910000E+37,+7.135005E+03,+2.150800E+04,+7.500000E-01,-1.922978E-10,+9.910000E+37,+7.135102E+03,+2.150800E+04,+7.600000E-01,-1.934019E-10,+9.910000E+37,+7.135199E+03,+2.150800E+04,+7.700000E-01,-1.822613E-10,+9.910000E+37,+7.135295E+03,+2.150800E+04,+7.800000E-01,-1.981692E-10,+9.910000E+37,+7.135393E+03,+2.150800E+04,+7.900000E-01,-2.152814E-10,+9.910000E+37,+7.135488E+03,+2.150800E+04,+8.000000E-01,-1.919466E-10,+9.910000E+37,+7.135586E+03,+2.150800E+04\n",
      "\n"
     ]
    }
   ],
   "source": [
    "\n",
    "\n",
    "from import_all import *\n",
    "newout_np = np.array(newout.spli)\n",
    "print newout_np"
   ]
  },
  {
   "cell_type": "code",
   "execution_count": 55,
   "metadata": {
    "collapsed": false
   },
   "outputs": [
    {
     "name": "stdout",
     "output_type": "stream",
     "text": [
      "['aa', 'a']\n"
     ]
    }
   ],
   "source": [
    "a = \"aa.a\"\n",
    "print a.split('.')\n"
   ]
  },
  {
   "cell_type": "code",
   "execution_count": 64,
   "metadata": {
    "collapsed": false
   },
   "outputs": [
    {
     "name": "stdout",
     "output_type": "stream",
     "text": [
      "'I was you\n"
     ]
    }
   ],
   "source": [
    "print '\\'I was you'"
   ]
  },
  {
   "cell_type": "code",
   "execution_count": 82,
   "metadata": {
    "collapsed": false
   },
   "outputs": [
    {
     "name": "stdout",
     "output_type": "stream",
     "text": [
      "12.0\n"
     ]
    }
   ],
   "source": [
    "print str(float(12))"
   ]
  },
  {
   "cell_type": "code",
   "execution_count": null,
   "metadata": {
    "collapsed": true
   },
   "outputs": [],
   "source": []
  }
 ],
 "metadata": {
  "kernelspec": {
   "display_name": "Python 2",
   "language": "python",
   "name": "python2"
  },
  "language_info": {
   "codemirror_mode": {
    "name": "ipython",
    "version": 2
   },
   "file_extension": ".py",
   "mimetype": "text/x-python",
   "name": "python",
   "nbconvert_exporter": "python",
   "pygments_lexer": "ipython2",
   "version": "2.7.11"
  }
 },
 "nbformat": 4,
 "nbformat_minor": 0
}
