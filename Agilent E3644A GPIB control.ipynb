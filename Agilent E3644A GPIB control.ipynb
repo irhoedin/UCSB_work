{
 "cells": [
  {
   "cell_type": "code",
   "execution_count": 1,
   "metadata": {
    "collapsed": true
   },
   "outputs": [],
   "source": [
    "from import_all import *\n",
    "import visa"
   ]
  },
  {
   "cell_type": "code",
   "execution_count": 17,
   "metadata": {
    "collapsed": false
   },
   "outputs": [
    {
     "name": "stdout",
     "output_type": "stream",
     "text": [
      "Agilent Technologies,E3644A,0,1.8-5.0-1.0\n",
      "\n"
     ]
    }
   ],
   "source": [
    "rm = visa.ResourceManager(\"/Library/Frameworks/Visa.framework/VISA\")\n",
    "rm.list_resources()\n",
    "E3644A = rm.open_resource('GPIB0::7::INSTR')\n",
    "print(E3644A.query(\"*IDN?\"))"
   ]
  },
  {
   "cell_type": "code",
   "execution_count": 20,
   "metadata": {
    "collapsed": false
   },
   "outputs": [],
   "source": [
    "inpt = E3644A.write(\"*RST\")\n",
    "inpt = E3644A.write('CURR 3') #set current 3 [A]\n",
    "\n",
    "volt_prot = E3644A.query(\"VOLT:PROT:STAT?\")# overvoltage protection? 1 = ON, 0 = OFF\n",
    "\n",
    "if not volt_prot:\n",
    "    inpt = E3644A.write('VOLT:PROT:STAT ON') #set overvoltage protection mode to ON\n",
    "\n",
    "inpt = E3644A.write('VOLT:PROT 22') #set overvoltage protection to 22 [A]\n",
    "inpt = E3644A.write('VOLT 0') # set immediate voltage level \n"
   ]
  },
  {
   "cell_type": "code",
   "execution_count": 13,
   "metadata": {
    "collapsed": true
   },
   "outputs": [],
   "source": [
    "inpt = E3644A.write('VOLT:PROT:STAT OFF') #set overvoltage protection mode to ON"
   ]
  },
  {
   "cell_type": "code",
   "execution_count": 19,
   "metadata": {
    "collapsed": false
   },
   "outputs": [
    {
     "name": "stdout",
     "output_type": "stream",
     "text": [
      "1\n",
      "\n"
     ]
    }
   ],
   "source": [
    "output = E3644A.query(\"VOLT:PROT:STAT?\") \n",
    "print output"
   ]
  },
  {
   "cell_type": "code",
   "execution_count": null,
   "metadata": {
    "collapsed": true
   },
   "outputs": [],
   "source": []
  }
 ],
 "metadata": {
  "kernelspec": {
   "display_name": "Python 2",
   "language": "python",
   "name": "python2"
  },
  "language_info": {
   "codemirror_mode": {
    "name": "ipython",
    "version": 2
   },
   "file_extension": ".py",
   "mimetype": "text/x-python",
   "name": "python",
   "nbconvert_exporter": "python",
   "pygments_lexer": "ipython2",
   "version": "2.7.11"
  }
 },
 "nbformat": 4,
 "nbformat_minor": 0
}
