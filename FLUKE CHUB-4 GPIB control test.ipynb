{
 "cells": [
  {
   "cell_type": "code",
   "execution_count": 1,
   "metadata": {
    "collapsed": true
   },
   "outputs": [],
   "source": [
    "import visa\n",
    "from import_all import *"
   ]
  },
  {
   "cell_type": "code",
   "execution_count": 2,
   "metadata": {
    "collapsed": false
   },
   "outputs": [
    {
     "name": "stdout",
     "output_type": "stream",
     "text": [
      "HART,1529,B23601,2.04\n",
      "\n"
     ]
    }
   ],
   "source": [
    "rm = visa.ResourceManager(\"/Library/Frameworks/Visa.framework/VISA\")\n",
    "rm.list_resources()\n",
    "my_instrument = rm.open_resource('GPIB0::22::INSTR')\n",
    "print(my_instrument.query(\"*IDN?\"))"
   ]
  },
  {
   "cell_type": "code",
   "execution_count": 9,
   "metadata": {
    "collapsed": false
   },
   "outputs": [],
   "source": [
    "#Basic commands to play with\n",
    "\n",
    "\n",
    "inpt = my_instrument.write('UNIT:TEMP C') #set unit to degC. \n",
    "\n",
    "#DISABLE channels (Confusing!)\n",
    "inpt = my_instrument.write('ROUT:OPEN 1') \n",
    "inpt = my_instrument.write('ROUT:OPEN 2')\n",
    "inpt = my_instrument.write('ROUT:OPEN 3')\n",
    "inpt = my_instrument.write('ROUT:OPEN 4')\n",
    "\n",
    "inpt = my_instrument.write('ROUT:CLOS 1')  \n",
    "inpt = my_instrument.write('ROUT:CLOS 2') \n",
    "# It takes a while to open/close the channels"
   ]
  },
  {
   "cell_type": "code",
   "execution_count": 8,
   "metadata": {
    "collapsed": false
   },
   "outputs": [
    {
     "name": "stdout",
     "output_type": "stream",
     "text": [
      "29.86\n",
      "30.98\n",
      "\n"
     ]
    }
   ],
   "source": [
    "ch2 = my_instrument.query('FETC? 2') #ask the temperature at ch2\n",
    "ch1 = my_instrument.query('FETC? 1') #ask the temperature at ch1\n",
    "#Note that the thermocuples you want to measure is correctly connected.\n",
    "print ch1, ch2"
   ]
  },
  {
   "cell_type": "code",
   "execution_count": null,
   "metadata": {
    "collapsed": true
   },
   "outputs": [],
   "source": []
  }
 ],
 "metadata": {
  "kernelspec": {
   "display_name": "Python 2",
   "language": "python",
   "name": "python2"
  },
  "language_info": {
   "codemirror_mode": {
    "name": "ipython",
    "version": 2
   },
   "file_extension": ".py",
   "mimetype": "text/x-python",
   "name": "python",
   "nbconvert_exporter": "python",
   "pygments_lexer": "ipython2",
   "version": "2.7.13"
  }
 },
 "nbformat": 4,
 "nbformat_minor": 0
}
