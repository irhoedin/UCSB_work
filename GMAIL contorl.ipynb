{
 "cells": [
  {
   "cell_type": "code",
   "execution_count": 30,
   "metadata": {
    "collapsed": false
   },
   "outputs": [],
   "source": [
    "\"\"\"\n",
    "Don't know why, but the following two statements are necessary to run this code on jupyter notebook.\n",
    "Without these magic words, it returns error when executing the follwing.\n",
    "\n",
    "flags = argparse.ArgumentParser(parents=[tools.argparser]).parse_args()\n",
    "\n",
    "Ref:\n",
    "https://github.com/radiasoft/devops/issues/20\n",
    "\"\"\"\n",
    "\n",
    "import sys\n",
    "del sys.argv[1:]\n",
    "\n",
    "\"\"\"\n",
    "Then you can import the gmail handling module as usual\n",
    "\n",
    "Ref:\n",
    "http://qiita.com/gano/items/4935eadce7219eb6227d\n",
    "Note that the original script has a mistake at the last row:\n",
    "\"main\" function needs three arguments, but the line passes only one.\n",
    "\"\"\"\n",
    "\n",
    "import gmail_test"
   ]
  },
  {
   "cell_type": "markdown",
   "metadata": {},
   "source": [
    "fail after fails... Give up"
   ]
  },
  {
   "cell_type": "code",
   "execution_count": 32,
   "metadata": {
    "collapsed": false
   },
   "outputs": [
    {
     "name": "stdout",
     "output_type": "stream",
     "text": [
      "Message Id: 1595241503dfcf1b\n"
     ]
    }
   ],
   "source": [
    "gmail_test.send_mail('nori@mrl.ucsb.edu', 'Hey its me', 'now I can send you from jupyter notebook!')"
   ]
  },
  {
   "cell_type": "code",
   "execution_count": null,
   "metadata": {
    "collapsed": true
   },
   "outputs": [],
   "source": []
  }
 ],
 "metadata": {
  "kernelspec": {
   "display_name": "Python 2",
   "language": "python",
   "name": "python2"
  },
  "language_info": {
   "codemirror_mode": {
    "name": "ipython",
    "version": 2
   },
   "file_extension": ".py",
   "mimetype": "text/x-python",
   "name": "python",
   "nbconvert_exporter": "python",
   "pygments_lexer": "ipython2",
   "version": "2.7.11"
  }
 },
 "nbformat": 4,
 "nbformat_minor": 0
}
