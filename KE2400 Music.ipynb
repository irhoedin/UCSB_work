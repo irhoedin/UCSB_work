{
 "cells": [
  {
   "cell_type": "markdown",
   "metadata": {},
   "source": [
    "# Eine kleine Nachtmusik\n",
    "\n",
    "G1 r0.5  D0.5 G1 r0.5 D0.5  G0.25 D0.25 G0.25  B(2)0.25 D(2)0.5\n",
    "\n",
    "G 783.99\n",
    "D 587.33\n",
    "B(2) 987.77\n",
    "D(2) 1174.66"
   ]
  },
  {
   "cell_type": "code",
   "execution_count": 1,
   "metadata": {
    "collapsed": false
   },
   "outputs": [
    {
     "name": "stdout",
     "output_type": "stream",
     "text": [
      "KEITHLEY INSTRUMENTS INC.,MODEL 2400,1386470,C32   Oct  4 2010 14:20:11/A02  /S/K\n",
      "\n"
     ]
    }
   ],
   "source": [
    "\n",
    "import time\n",
    "import visa\n",
    "rm = visa.ResourceManager(\"/Library/Frameworks/Visa.framework/VISA\")\n",
    "my_instrument = rm.open_resource('GPIB0::13::INSTR')\n",
    "print(my_instrument.query(\"*IDN?\"))"
   ]
  },
  {
   "cell_type": "code",
   "execution_count": 15,
   "metadata": {
    "collapsed": false
   },
   "outputs": [],
   "source": [
    "def EineKline(inst):\n",
    "    inpt = inst.write(':SYST:BEEP:STAT 1')\n",
    "    inpt = inst.write(':SYST:BEEP 784,0.6')\n",
    "    time.sleep(0.6)\n",
    "    time.sleep(0.3)\n",
    "    inpt = inst.write(':SYST:BEEP 587,0.3')\n",
    "    time.sleep(0.3)\n",
    "    inpt = inst.write(':SYST:BEEP 784,0.6')\n",
    "    time.sleep(0.6)\n",
    "    time.sleep(0.3)\n",
    "    inpt = inst.write(':SYST:BEEP 587,0.3')\n",
    "    time.sleep(0.3)\n",
    "    inpt = inst.write(':SYST:BEEP 784,0.3')\n",
    "    time.sleep(0.3)\n",
    "    inpt = inst.write(':SYST:BEEP 587,0.3')\n",
    "    time.sleep(0.3)\n",
    "    inpt = inst.write(':SYST:BEEP 784,0.3')\n",
    "    time.sleep(0.3)\n",
    "    inpt = inst.write(':SYST:BEEP 988,0.3')\n",
    "    time.sleep(0.3)\n",
    "    inpt = inst.write(':SYST:BEEP 1175,0.6')\n",
    "    time.sleep(0.6)\n",
    "    \n",
    "    time.sleep(0.6)\n",
    "    \n",
    "    inpt = inst.write(':SYST:BEEP 1046,0.6')\n",
    "    time.sleep(0.6)\n",
    "    time.sleep(0.3)\n",
    "    inpt = inst.write(':SYST:BEEP 880,0.3')\n",
    "    time.sleep(0.3)\n",
    "    inpt = inst.write(':SYST:BEEP 1046,0.6')\n",
    "    time.sleep(0.6)\n",
    "    time.sleep(0.3)\n",
    "    inpt = inst.write(':SYST:BEEP 880,0.3')\n",
    "    time.sleep(0.3)\n",
    "    inpt = inst.write(':SYST:BEEP 1046,0.3')\n",
    "    time.sleep(0.3)\n",
    "    inpt = inst.write(':SYST:BEEP 880,0.3')\n",
    "    time.sleep(0.3)\n",
    "    inpt = inst.write(':SYST:BEEP 739,0.3')\n",
    "    time.sleep(0.3)\n",
    "    inpt = inst.write(':SYST:BEEP 880,0.3')\n",
    "    time.sleep(0.3)\n",
    "    inpt = inst.write(':SYST:BEEP 587,0.6')\n",
    "    time.sleep(0.6)\n",
    "\n",
    "\n",
    "EineKline(my_instrument)\n",
    "\n",
    "                  "
   ]
  },
  {
   "cell_type": "code",
   "execution_count": 8,
   "metadata": {
    "collapsed": false
   },
   "outputs": [
    {
     "name": "stdout",
     "output_type": "stream",
     "text": [
      "0.34\n"
     ]
    }
   ],
   "source": [
    "print round(0.344,2)"
   ]
  },
  {
   "cell_type": "code",
   "execution_count": null,
   "metadata": {
    "collapsed": true
   },
   "outputs": [],
   "source": []
  }
 ],
 "metadata": {
  "kernelspec": {
   "display_name": "Python 2",
   "language": "python",
   "name": "python2"
  },
  "language_info": {
   "codemirror_mode": {
    "name": "ipython",
    "version": 2
   },
   "file_extension": ".py",
   "mimetype": "text/x-python",
   "name": "python",
   "nbconvert_exporter": "python",
   "pygments_lexer": "ipython2",
   "version": "2.7.13"
  }
 },
 "nbformat": 4,
 "nbformat_minor": 2
}
