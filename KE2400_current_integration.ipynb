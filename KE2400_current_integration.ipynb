{
 "cells": [
  {
   "cell_type": "code",
   "execution_count": 1,
   "metadata": {
    "collapsed": true
   },
   "outputs": [],
   "source": [
    "from import_all import *\n",
    "import visa\n",
    "import time\n",
    "import datetime\n",
    "VISA_PATH = '/Library/Frameworks/Visa.framework/VISA'\n"
   ]
  },
  {
   "cell_type": "code",
   "execution_count": 3,
   "metadata": {
    "collapsed": false
   },
   "outputs": [
    {
     "name": "stdout",
     "output_type": "stream",
     "text": [
      "KEITHLEY INSTRUMENTS INC.,MODEL 2400,1386470,C32   Oct  4 2010 14:20:11/A02  /S/K\n",
      "\n"
     ]
    }
   ],
   "source": [
    "rm = visa.ResourceManager(VISA_PATH)\n",
    "inst = rm.open_resource('GPIB0::13::INSTR')\n",
    "info = inst.query('*IDN?')\n",
    "print info\n"
   ]
  },
  {
   "cell_type": "code",
   "execution_count": 73,
   "metadata": {
    "collapsed": false
   },
   "outputs": [
    {
     "name": "stdout",
     "output_type": "stream",
     "text": [
      "no cycle\n"
     ]
    },
    {
     "data": {
      "text/plain": [
       "1.022181e-09"
      ]
     },
     "execution_count": 73,
     "metadata": {},
     "output_type": "execute_result"
    }
   ],
   "source": [
    "def integrate_current(int_time, volt, v_rang=10, c_cmpl=0.1, c_rang=0.0001):\n",
    "    \"\"\"integrate current for the designated time\n",
    "    \n",
    "    Arg:\n",
    "    int_time: float, time in ms.\n",
    "    \"\"\"\n",
    "    \n",
    "    inpt = inst.write('*RST')\n",
    "    inpt = inst.write(':SOUR:FUNC VOLT')\n",
    "    inpt = inst.write(':SOUR:VOLT:MODE FIXED')\n",
    "    inpt = inst.write(':SOUR:VOLT:RANG ' + str(v_rang))\n",
    "    inpt = inst.write(':SOUR:VOLT:LEV ' + str(volt))\n",
    "    inpt = inst.write(':SENS:CURR:PROT ' + str(c_cmpl)) \n",
    "    inpt = inst.write(':SENS:FUNC \"CURR\"')\n",
    "    inpt = inst.write(':SENS:CURR:RANG ' + str(c_rang))\n",
    "    inpt = inst.write(':FORM:ELEM CURR')\n",
    "\n",
    "    if int_time < 166:\n",
    "        nplc = str(int_time/(1./60)/1000)\n",
    "        \n",
    "        inpt = inst.write(':SENS:NPLC ' + nplc)\n",
    "        inpt = inst.write(':OUTP ON')\n",
    "        output = inst.query(':READ?')\n",
    "        inpt = inst.write('OUTP OFF')\n",
    "        \n",
    "        print 'no cycle'\n",
    "        return float(output)\n",
    "        \n",
    "    else:\n",
    "        cycle = int(int_time/100) + 1\n",
    "\n",
    "        inpt = inst.write(':SENS:NPLC ' + '6') #100 ms per cycle    \n",
    "        inpt = inst.write(':OUTP ON')\n",
    "\n",
    "        current_list = []\n",
    "        for c in range(cycle):\n",
    "            now = datetime.datetime.now()\n",
    "            elasped = (now - now0).total_seconds()\n",
    "            output = inst.query(':READ?')\n",
    "            current_list.append(float(output))\n",
    "\n",
    "        inpt = inst.write('OUTP OFF')\n",
    "\n",
    "        #omit first value as it is always lower than the others\n",
    "        c_list_np = np.array(current_list[1:])\n",
    "        mean_current = c_list_np.mean()\n",
    "        return mean_current, c_list_np\n",
    "    \n",
    "integrate_current(1, 4)"
   ]
  },
  {
   "cell_type": "code",
   "execution_count": 17,
   "metadata": {
    "collapsed": false
   },
   "outputs": [
    {
     "name": "stdout",
     "output_type": "stream",
     "text": [
      "322\n"
     ]
    }
   ],
   "source": [
    "a = 32.244/0.1\n",
    "print int(a)"
   ]
  },
  {
   "cell_type": "code",
   "execution_count": 18,
   "metadata": {
    "collapsed": false
   },
   "outputs": [
    {
     "name": "stdout",
     "output_type": "stream",
     "text": [
      "-8.18593e-08\n"
     ]
    }
   ],
   "source": [
    "print float('-8.185930E-08')"
   ]
  },
  {
   "cell_type": "code",
   "execution_count": null,
   "metadata": {
    "collapsed": true
   },
   "outputs": [],
   "source": []
  }
 ],
 "metadata": {
  "anaconda-cloud": {},
  "kernelspec": {
   "display_name": "Python [default]",
   "language": "python",
   "name": "python2"
  },
  "language_info": {
   "codemirror_mode": {
    "name": "ipython",
    "version": 2
   },
   "file_extension": ".py",
   "mimetype": "text/x-python",
   "name": "python",
   "nbconvert_exporter": "python",
   "pygments_lexer": "ipython2",
   "version": "2.7.13"
  }
 },
 "nbformat": 4,
 "nbformat_minor": 2
}
