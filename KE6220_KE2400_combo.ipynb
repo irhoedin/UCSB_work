{
 "cells": [
  {
   "cell_type": "code",
   "execution_count": 142,
   "metadata": {
    "collapsed": false
   },
   "outputs": [
    {
     "name": "stdout",
     "output_type": "stream",
     "text": [
      "KEITHLEY INSTRUMENTS INC.,MODEL 6220,1347935,A05  /700x \n",
      "KEITHLEY INSTRUMENTS INC.,MODEL 2400,1386470,C32   Oct  4 2010 14:20:11/A02  /S/K\n",
      "\n"
     ]
    }
   ],
   "source": [
    "import visa\n",
    "rm = visa.ResourceManager(\"/Library/Frameworks/Visa.framework/VISA\")\n",
    "K6220 = rm.open_resource('GPIB0::12::INSTR')\n",
    "K2400 = rm.open_resource('GPIB0::13::INSTR')\n",
    "print K6220.query('*IDN?'), K2400.query('*IDN?')\n"
   ]
  },
  {
   "cell_type": "code",
   "execution_count": 149,
   "metadata": {
    "collapsed": false
   },
   "outputs": [],
   "source": [
    "from import_all import *\n",
    "import time\n",
    "def c_lab_conductivity(path, filname,\n",
    "                       curr_start=-1e-3, curr_stop=1e-3, curr_step=1e-4,\n",
    "                       sour_del=.01, nplc=1, graph=True, \n",
    "                       bias_curr=0., c_cmpl=1., v_cmpl=10.,\n",
    "                       swp_rang='BEST', swe_coun=1):\n",
    "    \"\"\"Do conductivity measurment with KE6220 (current source) and KE2400 (source meter)\n",
    "    \n",
    "    DON'T change sour_del and nplc from the default value unless\n",
    "    you really need it.\n",
    "    Total step number should be not more than 21.\n",
    "    Syncronizing two sweeps is tricky!\n",
    "    \n",
    "    Args:\n",
    "    path: string, path of the directory to save file\n",
    "    filename: string, filename\n",
    "    curr_start: float, current start value [A]\n",
    "    curr_stop: float, current stop value [A]\n",
    "    curr_step: float, current sweep step [A]\n",
    "    sour_del: float, source deley [s]\n",
    "    nplc: float, nplc, if nplc=1, signal is integrated for 16.67 ms [-]\n",
    "    graph: boolan, if True, a V-I plot appears\n",
    "    bias_curr: float, bias applied by KE2400. SHOULD BE ZERO!\n",
    "    c_cmpl: float, compliance current (applied for KE6220)\n",
    "    v_cmpl: float, compliance voltage (applied for KE2400)\n",
    "    swp_rang: string, refer 'SOUR:SWE:RANG' command for KE6220\n",
    "    swe_count: integer, number of sweep. SHOULD BE 1!\n",
    "    \n",
    "    Rets:\n",
    "    new_out_df: pd.DataFrame,\n",
    "    columns=['Inpt_current', 'Bias', 'Current', 'Resistance', 'Time', 'Status']\n",
    "    \n",
    "    \"\"\"\n",
    "    \n",
    "    step_num = (curr_stop - curr_start)/curr_step + 1\n",
    "    \n",
    "    sweep_time = cal_step_time(sour_del, nplc) * step_num\n",
    "    print 'est. meas time : %d [s]' %sweep_time\n",
    "    \n",
    "    K2400.timeout = int(sweep_time * 1000 * 2)\n",
    "    \n",
    "    ## setup KE6220\n",
    "    #basic settings\n",
    "    inpt = K6220.write('*RST')\n",
    "\n",
    "    inpt = K2400.write(':ARM:SOUR BUS') #set Arm\n",
    "    inpt = K6220.write(':TRIG:SOUR TLIN') #event detector is trigger link\n",
    "    inpt = K6220.write(':TRIG:ILIN 1') # triger input signal comes from line 1\n",
    "    inpt = K6220.write(':TRIG:OLIN 2')# triger input signal send to line 1\n",
    "    inpt = K6220.write(':TRIG:OUTP DEL') # after deley, triger output signal send to line 1\n",
    "    inpt = K6220.write(':TRIG:DIR SOUR') #bypass triger at first \n",
    "\n",
    "    inpt = K6220.write('SOUR:CURR ' + str(bias_curr))\n",
    "    inpt = K6220.write('SOUR:CURR:COMP ' + str(c_cmpl))\n",
    "\n",
    "    #setting for sweep \n",
    "    inpt = K6220.write('SOUR:SWE:SPAC LIN')\n",
    "    inpt = K6220.write('SOUR:CURR:STAR ' + str(curr_start))\n",
    "    inpt = K6220.write('SOUR:CURR:STOP ' + str(curr_stop))\n",
    "    inpt = K6220.write('SOUR:CURR:STEP ' + str(curr_step))\n",
    "    inpt = K6220.write('SOUR:DEL ' + str(step_time))\n",
    "    inpt = K6220.write('SOUR:SWE:RANG ' + swp_rang)\n",
    "    inpt = K6220.write('SOUR:SWE:COUN ' + str(swe_coun))\n",
    "    inpt = K6220.write('SOUR:SWE:CAB OFF')\n",
    "    inpt = K6220.write('SOUR:SWE:ARM')\n",
    "    \n",
    "    \n",
    "    ## setup KE2400\n",
    "    inpt = K2400.write('*RST') #reset\n",
    "    \n",
    "    inpt = K2400.write(':ARM:SOUR IMM') #set Arm\n",
    "    inpt = K2400.write(':TRIG:ILIN 2') #trigger input line 2 (input from K6220)\n",
    "    inpt = K2400.write(':TRIG:OLIN 1') #trigger output line 1 (output to K6220)\n",
    "    inpt = K2400.write(':TRIG:INP SENS') # trigger input to measure event detector (JPN man. 11-15)\n",
    "    inpt = K2400.write(':TRIG:OUTP SENS') # trigger output after measure action\n",
    "    inpt = K2400.write(':TRIG:COUN ' + str(step_num)) #set triger count = (start-end)/step + 1\n",
    "    \n",
    "    inpt = K2400.write(':SOUR:CLE:AUTO ON') #turn ON \"auto out-put off\"\n",
    "    inpt = K2400.write(':SOUR:FUNC CURR')\n",
    "    inpt = K2400.write(':SOUR:VOLT:MODE SWE') #set sweep mode\n",
    "    inpt = K2400.write(':SOUR:CURR:LEV 0') #no current from the source meter\n",
    "    inpt = K2400.write(':SOUR:DEL ' + str(sour_del)) #set source delay\n",
    "    \n",
    "    inpt = K2400.write(':SENS:FUNC \\\"VOLT\\\"') # sense Volt\n",
    "    inpt = K2400.write(':SENS:VOLT:PROT ' + str(v_cmpl)) #set compliance\n",
    "    inpt = K2400.write(':SENS:VOLT:NPLC ' + str(nplc)) #set compliance\n",
    "    \n",
    "    #execute sweep\n",
    "    output = K2400.query(':READ?')    \n",
    "    inpt = K6220.write('INIT:IMM')\n",
    "\n",
    "\n",
    "    inpt = K6220.write('OUTP OFF')\n",
    "    \n",
    "    out_df = conv_buffer2df(output, path, filename)\n",
    "    input_current_df = pd.DataFrame(np.linspace(curr_start, curr_stop, step_num), columns=['Inpt_current'])\n",
    "    new_out_df = pd.concat([input_current_df, out_df],axis=1)\n",
    "    \n",
    "    #calculate resistance\n",
    "    x = np.array(new_out_df['Inpt_current'])\n",
    "    y = np.array(new_out_df['Voltage'])\n",
    "    a, b = np.polyfit(x, y, 1)\n",
    "    print 'R = %.2e [Ohm]' %a\n",
    "    \n",
    "    if graph:\n",
    "        f, ax = plt.subplots()\n",
    "        ax.plot(x, y, 'o')\n",
    "        ax.set_xlabel('Current [A]')\n",
    "        ax.set_ylabel('Voltage [V]')\n",
    "                       \n",
    "    return new_out_df\n",
    "                       \n",
    "def read_register(output, digit):\n",
    "    out_enc = output.encode('utf-8')\n",
    "    out_binary = str(format(int(out_enc), 'b'))\n",
    "    out_string = out_binary.zfill(digit)\n",
    "    return out_string\n",
    "\n",
    "def conv_buffer2df(buffer_out, path, filename):\n",
    "    \n",
    "    out = buffer_out.encode('utf-8') #convert unicode to byte literal\n",
    "    out_list = out.strip().split(',') #remove newline and split to list\n",
    "    out_num = map(float, out_list) # DON'T FORGET to convert string to float (missed 30 min!)\n",
    "    out_len = len(out_num)\n",
    "    out_np = np.array(out_num)\n",
    "    out_np2 = out_np.reshape(out_len/5, 5)\n",
    "    out_df = pd.DataFrame(out_np2,\n",
    "                          columns=['Voltage', 'Current', 'Registance', 'Time', 'Status']) #default output\n",
    "    #write to automatic filesave\n",
    "    \n",
    "    return out_df\n",
    "\n",
    "\n",
    "def cal_step_time(sdel, nplc, tdel=0, freq=60.):\n",
    "    \"\"\"calculate measurment time in each step.\n",
    "    \n",
    "    See Appendex A of the KE2400 manual\n",
    "    \n",
    "    \"\"\"\n",
    "    TRIG_WAIT = 255e-6 #[s]\n",
    "    SOURCE_SET = 50e-6 #[s]\n",
    "    FARMWAER_OVERHEAD = 1.8e-3 #[s]\n",
    "    \n",
    "    source_on = SOURCE_SET + sdel + 3 * (nplc * float(1/freq) + 185e-6) + FARMWAER_OVERHEAD\n",
    "    \n",
    "    total_time = TRIG_WAIT + tdel + source_on\n",
    "    \n",
    "    return total_time"
   ]
  },
  {
   "cell_type": "code",
   "execution_count": 150,
   "metadata": {
    "collapsed": false
   },
   "outputs": [
    {
     "name": "stdout",
     "output_type": "stream",
     "text": [
      "est. meas time : 0 [s]\n",
      "sweep completed\n",
      "R = 4.67e+00 [Ohm]\n"
     ]
    },
    {
     "data": {
      "image/png": "[encoded data removed]",
      "text/plain": [
       "<matplotlib.figure.Figure at 0x11b659250>"
      ]
     },
     "metadata": {},
     "output_type": "display_data"
    }
   ],
   "source": [
    "%matplotlib inline\n",
    "path = '/Users/nakayamahidenori/my_python_modules/GPIB connection test'\n",
    "filename = 'conductivity_test_tlink'\n",
    "df = c_lab_conductivity(path, filename)"
   ]
  },
  {
   "cell_type": "code",
   "execution_count": 153,
   "metadata": {
    "collapsed": false
   },
   "outputs": [
    {
     "data": {
      "text/plain": [
       "3000L"
      ]
     },
     "execution_count": 153,
     "metadata": {},
     "output_type": "execute_result"
    }
   ],
   "source": [
    "K2400.timeout"
   ]
  },
  {
   "cell_type": "code",
   "execution_count": null,
   "metadata": {
    "collapsed": true
   },
   "outputs": [],
   "source": []
  }
 ],
 "metadata": {
  "kernelspec": {
   "display_name": "Python 2",
   "language": "python",
   "name": "python2"
  },
  "language_info": {
   "codemirror_mode": {
    "name": "ipython",
    "version": 2
   },
   "file_extension": ".py",
   "mimetype": "text/x-python",
   "name": "python",
   "nbconvert_exporter": "python",
   "pygments_lexer": "ipython2",
   "version": "2.7.13"
  }
 },
 "nbformat": 4,
 "nbformat_minor": 0
}
