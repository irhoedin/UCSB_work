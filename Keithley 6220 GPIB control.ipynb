{
 "cells": [
  {
   "cell_type": "markdown",
   "metadata": {},
   "source": [
    "# KE6220 sweep programing example by the offical manual\n",
    "## Configure source functions.\n",
    "Examples – The following commands restore defaults, set the bias current to 100μA, and the compliance to 10V:\n",
    "\n",
    "```\n",
    "   *RST\n",
    "   SOUR:CURR 1e-4\n",
    "   SOUR:CURR:COMP 10\n",
    "```\n",
    "\n",
    "- ‘ Restore 622x defaults.\n",
    "- ‘ Set bias current to 100μA\n",
    "- ‘ Set compliance to 10V.\n",
    "\n",
    "\n",
    "## Configure the sweep.\n",
    "\n",
    "Examples – The following commands configure a single linear staircase sweep from 1mA to 10mA with 1mA steps using a 1s delay, best fixed source range, and compliance abort disabled:\n",
    "\n",
    "```\n",
    "   SOUR:SWE:SPAC LIN\n",
    "   SOUR:CURR:STAR 1e-3\n",
    "   SOUR:CURR:STOP 1e-2\n",
    "   SOUR:CURR:STEP 1e-3\n",
    "   SOUR:DEL 1\n",
    "   SOUR:SWE:RANG BEST\n",
    "   SOUR:SWE:COUN 1\n",
    "   SOUR:SWE:CAB OFF\n",
    "   \n",
    "```\n",
    "\n",
    "- ‘ Select linear staircase sweep. ‘ Set start current to 1mA.\n",
    "- ‘ Set stop current to 10mA.\n",
    "- ‘ Set step current to 1mA.\n",
    "- ‘ Set delay to 1s.\n",
    "- ‘ Select best fixed source range. ‘ Set sweep count to 1.\n",
    "- ‘ Disable compliance abort.\n",
    "\n",
    "\n",
    "## Arm and run the sweep:\n",
    "\n",
    "```\n",
    "SOUR:SWE:ARM\n",
    "INIT\n",
    "```\n",
    "- ‘ Arm sweep, turn on output.\n",
    "- ‘ Trigger sweep.\n",
    "\n",
    "## When the sweep is done, turn the source output off with this command:\n",
    "\n",
    "```\n",
    "OUTP OFF\n",
    "```"
   ]
  },
  {
   "cell_type": "markdown",
   "metadata": {},
   "source": [
    "\n",
    "# Operation register for KE6220\n",
    "(from C-lab \"conductivity2.vi\" block chart)\n",
    "\n",
    "B0: CAL: Instrument Calibrating Event?  \n",
    "B1: SwpD, Sweep, Delta, Diff Cond, or Pulse sweep Complete Event?  \n",
    "B2: SwpA, Sweep, Delta, Diff Cond, or Pulse sweep Aborted Event?  \n",
    "B3: Swp, Sweep, Delta, Diff Cond, or Pulse sweep Sweeping Event?  \n",
    "B4: WStrt, KE6221 wave mode started Event?  \n",
    "B5: Tring, Wating for trigger event event?  \n",
    "B6: Arm, Waiting for Arm Event Event?  \n",
    "B7: Wstop, KE6221 Wave Mode Aborted Event?  \n",
    "B8: Filt, Delta, Test Started And Filter Settled Event?  \n",
    "B9: none  \n",
    "B10: Idle, Idle state Event?  \n",
    "B11; RSE, RS-232 Error Event?  \n",
    "\n",
    "My test shows that B3 =1 while sweeping, and 0 if it ends. This should be a good signal."
   ]
  },
  {
   "cell_type": "code",
   "execution_count": 1,
   "metadata": {
    "collapsed": false
   },
   "outputs": [],
   "source": [
    "%matplotlib inline\n",
    "from import_all import *\n"
   ]
  },
  {
   "cell_type": "code",
   "execution_count": 4,
   "metadata": {
    "collapsed": false
   },
   "outputs": [
    {
     "name": "stdout",
     "output_type": "stream",
     "text": [
      "(u'GPIB0::7::INSTR', u'GPIB0::12::INSTR', u'GPIB0::13::INSTR', u'GPIB0::15::INSTR', u'GPIB0::22::INSTR')\n",
      "KEITHLEY INSTRUMENTS INC.,MODEL 6220,1347935,A05  /700x \n",
      "\n"
     ]
    }
   ],
   "source": [
    "import visa\n",
    "rm = visa.ResourceManager(\"/Library/Frameworks/Visa.framework/VISA\")\n",
    "print rm.list_resources()\n",
    "K6220 = rm.open_resource('GPIB0::12::INSTR')\n",
    "print(K6220.query(\"*IDN?\"))"
   ]
  },
  {
   "cell_type": "code",
   "execution_count": 66,
   "metadata": {
    "collapsed": false
   },
   "outputs": [],
   "source": [
    "import time\n",
    "def simple_current_swp(bias_curr=0, cmpl=10,\n",
    "                       curr_start=-1e-3, curr_stop=1e-3, curr_step=1e-4,\n",
    "                       sour_del=1, swp_rang='BEST', swe_coun=1):\n",
    "    \n",
    "    ADD_TIME = 0.1 #[s] additional time for each step\n",
    "    TIME_LAG = .5 #[s] a time lag betwee itinitaltion signal and sweep start\n",
    "    \n",
    "    step_num = (curr_stop - curr_start)/curr_step + 1\n",
    "    meas_time = step_num * (sour_del + ADD_TIME)\n",
    "    \n",
    "    print 'est. meas time : %d [s]' %meas_time\n",
    "    \n",
    "    #basic settings\n",
    "    inpt = K6220.write('*RST')\n",
    "    inpt = K6220.write('SOUR:CURR ' + str(bias_curr))\n",
    "    inpt = K6220.write('SOUR:CURR:COMP ' + str(cmpl))\n",
    "\n",
    "    #setting for sweep \n",
    "    inpt = K6220.write('SOUR:SWE:SPAC LIN')\n",
    "    inpt = K6220.write('SOUR:CURR:STAR ' + str(curr_start))\n",
    "    inpt = K6220.write('SOUR:CURR:STOP ' + str(curr_stop))\n",
    "    inpt = K6220.write('SOUR:CURR:STEP ' + str(curr_step))\n",
    "    inpt = K6220.write('SOUR:DEL ' + str(sour_del))\n",
    "    inpt = K6220.write('SOUR:SWE:RANG ' + swp_rang)\n",
    "    inpt = K6220.write('SOUR:SWE:COUN ' + str(swe_coun))\n",
    "    inpt = K6220.write('SOUR:SWE:CAB OFF')\n",
    "    \n",
    "    #execute sweep\n",
    "    inpt = K6220.write('SOUR:SWE:ARM')\n",
    "    inpt = K6220.write('INIT')\n",
    "    \n",
    "    time.sleep(TIME_LAG)\n",
    "\n",
    "    for i in range(int(step_num) + 5):\n",
    "        time.sleep(sour_del) \n",
    "        output = K6220.query('STAT:OPER:EVEN?')\n",
    "        register = read_register(output, 12)\n",
    "        #print i, register, register[-4]\n",
    "        if register[-4]=='0': #if sweeping event(B4 = 0) is over\n",
    "            print 'sweep completed'\n",
    "            break\n",
    "\n",
    "    #kill output\n",
    "    inpt = K6220.write('OUTP OFF')\n",
    "                       \n",
    "    return 0\n",
    "                       \n",
    "def read_register(output, digit):\n",
    "    out_enc = output.encode('utf-8')\n",
    "    out_binary = str(format(int(out_enc), 'b'))\n",
    "    out_string = out_binary.zfill(digit)\n",
    "    return out_string\n",
    "\n"
   ]
  },
  {
   "cell_type": "code",
   "execution_count": 67,
   "metadata": {
    "collapsed": false
   },
   "outputs": [
    {
     "name": "stdout",
     "output_type": "stream",
     "text": [
      "est. meas time : 23 [s]\n",
      "sweep completed\n",
      "output:  \n",
      "\n"
     ]
    }
   ],
   "source": [
    "a = simple_current_swp()"
   ]
  },
  {
   "cell_type": "code",
   "execution_count": 38,
   "metadata": {
    "collapsed": false
   },
   "outputs": [
    {
     "name": "stdout",
     "output_type": "stream",
     "text": [
      "1\n"
     ]
    }
   ],
   "source": [
    "b = '010000001010'\n",
    "print b[-4]"
   ]
  },
  {
   "cell_type": "code",
   "execution_count": null,
   "metadata": {
    "collapsed": true
   },
   "outputs": [],
   "source": []
  }
 ],
 "metadata": {
  "kernelspec": {
   "display_name": "Python 2",
   "language": "python",
   "name": "python2"
  },
  "language_info": {
   "codemirror_mode": {
    "name": "ipython",
    "version": 2
   },
   "file_extension": ".py",
   "mimetype": "text/x-python",
   "name": "python",
   "nbconvert_exporter": "python",
   "pygments_lexer": "ipython2",
   "version": "2.7.11"
  }
 },
 "nbformat": 4,
 "nbformat_minor": 0
}
