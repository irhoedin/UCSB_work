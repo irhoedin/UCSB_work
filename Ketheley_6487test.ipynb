{
 "cells": [
  {
   "cell_type": "markdown",
   "metadata": {},
   "source": [
    "ketheley 6487 picoammeter with voltage source test"
   ]
  },
  {
   "cell_type": "code",
   "execution_count": 138,
   "metadata": {
    "collapsed": false
   },
   "outputs": [
    {
     "name": "stdout",
     "output_type": "stream",
     "text": [
      "(u'GPIB0::22::INSTR',)\n",
      "KEITHLEY INSTRUMENTS INC.,MODEL 6487,1207197,A06   Jun 20 2006 15:08:40/A02  /C/G\n",
      "\n"
     ]
    }
   ],
   "source": [
    "%matplotlib inline\n",
    "from import_all import *\n",
    "import visa\n",
    "rm = visa.ResourceManager(\"/Library/Frameworks/Visa.framework/VISA\")\n",
    "print rm.list_resources()\n",
    "my_instrument = rm.open_resource('GPIB0::22::INSTR')\n",
    "print(my_instrument.query(\"*IDN?\"))"
   ]
  },
  {
   "cell_type": "code",
   "execution_count": 123,
   "metadata": {
    "collapsed": false
   },
   "outputs": [],
   "source": [
    "my_instrument.timeout = int(5 * 1000 * 2)\n",
    "inpt = my_instrument.write('*RST') #reset\n",
    "inpt = my_instrument.write('SOUR:VOLT:SWE:STAR 1')\n",
    "inpt = my_instrument.write('SOUR:VOLT:SWE:STOP 10')\n",
    "inpt = my_instrument.write('SOUR:VOLT:SWE:STEP 1')\n",
    "inpt = my_instrument.write('SOUR:VOLT:SWE:DEL 0.1')\n",
    "inpt = my_instrument.write('ARM:COUN INF')\n",
    "#inpt = my_instrument.write('FORM:ELEM READ, VSO')\n",
    "inpt = my_instrument.write('SOUR:VOLT:SWE:INIT')\n",
    "inpt = my_instrument.write('SYST:ZCH OFF')\n",
    "#inpt = my_instrument.write('INIT')\n",
    "#outp = my_instrument.query('FETC?')\n",
    "#inpt = my_instrument.write('*RST')"
   ]
  },
  {
   "cell_type": "code",
   "execution_count": 119,
   "metadata": {
    "collapsed": false
   },
   "outputs": [],
   "source": [
    "inpt = my_instrument.write('*RST') #reset\n",
    "#outp = my_instrument.query('TRAC:DATA?')\n",
    "#print outp"
   ]
  },
  {
   "cell_type": "code",
   "execution_count": 115,
   "metadata": {
    "collapsed": false
   },
   "outputs": [
    {
     "ename": "VisaIOError",
     "evalue": "VI_ERROR_TMO (-1073807339): Timeout expired before operation completed.",
     "output_type": "error",
     "traceback": [
      "\u001b[0;31m---------------------------------------------------------------------------\u001b[0m",
      "\u001b[0;31mVisaIOError\u001b[0m                               Traceback (most recent call last)",
      "\u001b[0;32m<ipython-input-115-e12dd509aa8a>\u001b[0m in \u001b[0;36m<module>\u001b[0;34m()\u001b[0m\n\u001b[0;32m----> 1\u001b[0;31m \u001b[0moutp\u001b[0m \u001b[0;34m=\u001b[0m \u001b[0mmy_instrument\u001b[0m\u001b[0;34m.\u001b[0m\u001b[0mquery\u001b[0m\u001b[0;34m(\u001b[0m\u001b[0;34m'SOUR:VOLT:SWE:STAT?'\u001b[0m\u001b[0;34m)\u001b[0m\u001b[0;34m\u001b[0m\u001b[0m\n\u001b[0m",
      "\u001b[0;32m/Users/nakayamahidenori/.pyenv/versions/anaconda-4.0.0/lib/python2.7/site-packages/pyvisa/resources/messagebased.pyc\u001b[0m in \u001b[0;36mquery\u001b[0;34m(self, message, delay)\u001b[0m\n\u001b[1;32m    405\u001b[0m         \u001b[0;32mif\u001b[0m \u001b[0mdelay\u001b[0m \u001b[0;34m>\u001b[0m \u001b[0;36m0.0\u001b[0m\u001b[0;34m:\u001b[0m\u001b[0;34m\u001b[0m\u001b[0m\n\u001b[1;32m    406\u001b[0m             \u001b[0mtime\u001b[0m\u001b[0;34m.\u001b[0m\u001b[0msleep\u001b[0m\u001b[0;34m(\u001b[0m\u001b[0mdelay\u001b[0m\u001b[0;34m)\u001b[0m\u001b[0;34m\u001b[0m\u001b[0m\n\u001b[0;32m--> 407\u001b[0;31m         \u001b[0;32mreturn\u001b[0m \u001b[0mself\u001b[0m\u001b[0;34m.\u001b[0m\u001b[0mread\u001b[0m\u001b[0;34m(\u001b[0m\u001b[0;34m)\u001b[0m\u001b[0;34m\u001b[0m\u001b[0m\n\u001b[0m\u001b[1;32m    408\u001b[0m \u001b[0;34m\u001b[0m\u001b[0m\n\u001b[1;32m    409\u001b[0m     \u001b[0;31m# Kept for backwards compatibility.\u001b[0m\u001b[0;34m\u001b[0m\u001b[0;34m\u001b[0m\u001b[0m\n",
      "\u001b[0;32m/Users/nakayamahidenori/.pyenv/versions/anaconda-4.0.0/lib/python2.7/site-packages/pyvisa/resources/messagebased.pyc\u001b[0m in \u001b[0;36mread\u001b[0;34m(self, termination, encoding)\u001b[0m\n\u001b[1;32m    330\u001b[0m         \u001b[0;32mif\u001b[0m \u001b[0mtermination\u001b[0m \u001b[0;32mis\u001b[0m \u001b[0mNone\u001b[0m\u001b[0;34m:\u001b[0m\u001b[0;34m\u001b[0m\u001b[0m\n\u001b[1;32m    331\u001b[0m             \u001b[0mtermination\u001b[0m \u001b[0;34m=\u001b[0m \u001b[0mself\u001b[0m\u001b[0;34m.\u001b[0m\u001b[0m_read_termination\u001b[0m\u001b[0;34m\u001b[0m\u001b[0m\n\u001b[0;32m--> 332\u001b[0;31m             \u001b[0mmessage\u001b[0m \u001b[0;34m=\u001b[0m \u001b[0mself\u001b[0m\u001b[0;34m.\u001b[0m\u001b[0mread_raw\u001b[0m\u001b[0;34m(\u001b[0m\u001b[0;34m)\u001b[0m\u001b[0;34m.\u001b[0m\u001b[0mdecode\u001b[0m\u001b[0;34m(\u001b[0m\u001b[0menco\u001b[0m\u001b[0;34m)\u001b[0m\u001b[0;34m\u001b[0m\u001b[0m\n\u001b[0m\u001b[1;32m    333\u001b[0m         \u001b[0;32melse\u001b[0m\u001b[0;34m:\u001b[0m\u001b[0;34m\u001b[0m\u001b[0m\n\u001b[1;32m    334\u001b[0m             \u001b[0;32mwith\u001b[0m \u001b[0mself\u001b[0m\u001b[0;34m.\u001b[0m\u001b[0mread_termination_context\u001b[0m\u001b[0;34m(\u001b[0m\u001b[0mtermination\u001b[0m\u001b[0;34m)\u001b[0m\u001b[0;34m:\u001b[0m\u001b[0;34m\u001b[0m\u001b[0m\n",
      "\u001b[0;32m/Users/nakayamahidenori/.pyenv/versions/anaconda-4.0.0/lib/python2.7/site-packages/pyvisa/resources/messagebased.pyc\u001b[0m in \u001b[0;36mread_raw\u001b[0;34m(self, size)\u001b[0m\n\u001b[1;32m    304\u001b[0m                     logger.debug('%s - reading %d bytes (last status %r)',\n\u001b[1;32m    305\u001b[0m                                  self._resource_name, size, status)\n\u001b[0;32m--> 306\u001b[0;31m                     \u001b[0mchunk\u001b[0m\u001b[0;34m,\u001b[0m \u001b[0mstatus\u001b[0m \u001b[0;34m=\u001b[0m \u001b[0mself\u001b[0m\u001b[0;34m.\u001b[0m\u001b[0mvisalib\u001b[0m\u001b[0;34m.\u001b[0m\u001b[0mread\u001b[0m\u001b[0;34m(\u001b[0m\u001b[0mself\u001b[0m\u001b[0;34m.\u001b[0m\u001b[0msession\u001b[0m\u001b[0;34m,\u001b[0m \u001b[0msize\u001b[0m\u001b[0;34m)\u001b[0m\u001b[0;34m\u001b[0m\u001b[0m\n\u001b[0m\u001b[1;32m    307\u001b[0m                     \u001b[0mret\u001b[0m \u001b[0;34m+=\u001b[0m \u001b[0mchunk\u001b[0m\u001b[0;34m\u001b[0m\u001b[0m\n\u001b[1;32m    308\u001b[0m             \u001b[0;32mexcept\u001b[0m \u001b[0merrors\u001b[0m\u001b[0;34m.\u001b[0m\u001b[0mVisaIOError\u001b[0m \u001b[0;32mas\u001b[0m \u001b[0me\u001b[0m\u001b[0;34m:\u001b[0m\u001b[0;34m\u001b[0m\u001b[0m\n",
      "\u001b[0;32m/Users/nakayamahidenori/.pyenv/versions/anaconda-4.0.0/lib/python2.7/site-packages/pyvisa/ctwrapper/functions.pyc\u001b[0m in \u001b[0;36mread\u001b[0;34m(library, session, count)\u001b[0m\n\u001b[1;32m   1580\u001b[0m     \u001b[0mbuffer\u001b[0m \u001b[0;34m=\u001b[0m \u001b[0mcreate_string_buffer\u001b[0m\u001b[0;34m(\u001b[0m\u001b[0mcount\u001b[0m\u001b[0;34m)\u001b[0m\u001b[0;34m\u001b[0m\u001b[0m\n\u001b[1;32m   1581\u001b[0m     \u001b[0mreturn_count\u001b[0m \u001b[0;34m=\u001b[0m \u001b[0mViUInt32\u001b[0m\u001b[0;34m(\u001b[0m\u001b[0;34m)\u001b[0m\u001b[0;34m\u001b[0m\u001b[0m\n\u001b[0;32m-> 1582\u001b[0;31m     \u001b[0mret\u001b[0m \u001b[0;34m=\u001b[0m \u001b[0mlibrary\u001b[0m\u001b[0;34m.\u001b[0m\u001b[0mviRead\u001b[0m\u001b[0;34m(\u001b[0m\u001b[0msession\u001b[0m\u001b[0;34m,\u001b[0m \u001b[0mbuffer\u001b[0m\u001b[0;34m,\u001b[0m \u001b[0mcount\u001b[0m\u001b[0;34m,\u001b[0m \u001b[0mbyref\u001b[0m\u001b[0;34m(\u001b[0m\u001b[0mreturn_count\u001b[0m\u001b[0;34m)\u001b[0m\u001b[0;34m)\u001b[0m\u001b[0;34m\u001b[0m\u001b[0m\n\u001b[0m\u001b[1;32m   1583\u001b[0m     \u001b[0;32mreturn\u001b[0m \u001b[0mbuffer\u001b[0m\u001b[0;34m.\u001b[0m\u001b[0mraw\u001b[0m\u001b[0;34m[\u001b[0m\u001b[0;34m:\u001b[0m\u001b[0mreturn_count\u001b[0m\u001b[0;34m.\u001b[0m\u001b[0mvalue\u001b[0m\u001b[0;34m]\u001b[0m\u001b[0;34m,\u001b[0m \u001b[0mret\u001b[0m\u001b[0;34m\u001b[0m\u001b[0m\n\u001b[1;32m   1584\u001b[0m \u001b[0;34m\u001b[0m\u001b[0m\n",
      "\u001b[0;32m/Users/nakayamahidenori/.pyenv/versions/anaconda-4.0.0/lib/python2.7/site-packages/pyvisa/ctwrapper/highlevel.pyc\u001b[0m in \u001b[0;36m_return_handler\u001b[0;34m(self, ret_value, func, arguments)\u001b[0m\n\u001b[1;32m    186\u001b[0m \u001b[0;34m\u001b[0m\u001b[0m\n\u001b[1;32m    187\u001b[0m         \u001b[0;32mif\u001b[0m \u001b[0mret_value\u001b[0m \u001b[0;34m<\u001b[0m \u001b[0;36m0\u001b[0m\u001b[0;34m:\u001b[0m\u001b[0;34m\u001b[0m\u001b[0m\n\u001b[0;32m--> 188\u001b[0;31m             \u001b[0;32mraise\u001b[0m \u001b[0merrors\u001b[0m\u001b[0;34m.\u001b[0m\u001b[0mVisaIOError\u001b[0m\u001b[0;34m(\u001b[0m\u001b[0mret_value\u001b[0m\u001b[0;34m)\u001b[0m\u001b[0;34m\u001b[0m\u001b[0m\n\u001b[0m\u001b[1;32m    189\u001b[0m \u001b[0;34m\u001b[0m\u001b[0m\n\u001b[1;32m    190\u001b[0m         \u001b[0;32mif\u001b[0m \u001b[0mret_value\u001b[0m \u001b[0;32min\u001b[0m \u001b[0mself\u001b[0m\u001b[0;34m.\u001b[0m\u001b[0missue_warning_on\u001b[0m\u001b[0;34m:\u001b[0m\u001b[0;34m\u001b[0m\u001b[0m\n",
      "\u001b[0;31mVisaIOError\u001b[0m: VI_ERROR_TMO (-1073807339): Timeout expired before operation completed."
     ]
    }
   ],
   "source": [
    "outp = my_instrument.query('SOUR:VOLT:SWE:STAT?')"
   ]
  },
  {
   "cell_type": "markdown",
   "metadata": {},
   "source": [
    "why it does not answer back after INIT??"
   ]
  },
  {
   "cell_type": "code",
   "execution_count": 110,
   "metadata": {
    "collapsed": false
   },
   "outputs": [],
   "source": [
    "#working script\n",
    "def meas_curr(volt, rang=10, ilim=2.5e-3):\n",
    "    #inpt = my_instrument.write('*RST') \n",
    "    inpt = my_instrument.write('SOUR:VOLT:RANG ' + str(rang))\n",
    "    inpt = my_instrument.write('SOUR:VOLT ' + str(volt))\n",
    "    inpt = my_instrument.write('SOUR:VOLT:ILIM ' + str(ilim))\n",
    "    inpt = my_instrument.write('SOUR:VOLT:STAT ON')\n",
    "    inpt = my_instrument.write('SYST:ZCH OFF')\n",
    "    outp = my_instrument.query('READ?')\n",
    "    print volt, outp\n",
    "    inpt = my_instrument.write('SOUR:VOLT:STAT OFF')\n",
    "    return volt, outp"
   ]
  },
  {
   "cell_type": "code",
   "execution_count": 164,
   "metadata": {
    "collapsed": true
   },
   "outputs": [],
   "source": [
    "from import_all import *\n",
    "def meas_curr_sweep(v_start, v_end, v_step,\n",
    "                    rang=10, ilim=2.5e-3, graph=True):\n",
    "    inpt = my_instrument.write('*RST')\n",
    "    inpt = my_instrument.write('SOUR:VOLT:RANG ' + str(rang))\n",
    "    inpt = my_instrument.write('SOUR:VOLT:ILIM ' + str(ilim))\n",
    "    \n",
    "    volt_list = np.arange(v_start, v_end+v_step, v_step)\n",
    "    current_list_raw = []\n",
    "    for volt in volt_list:\n",
    "        inpt = my_instrument.write('SOUR:VOLT ' + str(volt))\n",
    "        inpt = my_instrument.write('SOUR:VOLT:STAT ON')\n",
    "        inpt = my_instrument.write('SYST:ZCH OFF')\n",
    "        outp = my_instrument.query('READ?')\n",
    "        \n",
    "        current = float(outp.split(',')[0][:-1])\n",
    "        current_list_raw.append(current)\n",
    "        print volt, current\n",
    "    \n",
    "    current_list = np.array(current_list_raw)\n",
    "    \n",
    "    fit = np.polyfit(current_list, volt_list, 1)\n",
    "    print 'linear fit results: %0.2e [Ohm], residue %0.2e [V]' %(fit[0], fit[1])\n",
    "    resistivity = fit[0]\n",
    "    fit_line = fit[0] * current_list + fit[1]\n",
    "    \n",
    "    if graph:\n",
    "        f, ax = plt.subplots()\n",
    "        ax.plot(current_list, volt_list, 'o', color='b',)\n",
    "        ax.plot(current_list, fit_line, 'r')\n",
    "        ax.set_xlabel('Current [A]')\n",
    "        ax.set_ylabel('Voltage [V]')\n",
    "    \n",
    "    return volt_list, current_list, resistivity\n",
    "    "
   ]
  },
  {
   "cell_type": "code",
   "execution_count": 160,
   "metadata": {
    "collapsed": false
   },
   "outputs": [
    {
     "name": "stdout",
     "output_type": "stream",
     "text": [
      "-1.0 -4.910188e-08\n",
      "-0.5 -2.520117e-08\n",
      "0.0 -1.464023e-09\n",
      "0.5 2.197955e-08\n",
      "1.0 4.535755e-08\n",
      "linear fit results: 21177007.721 [Ohm], residue 0.036 [V]\n"
     ]
    },
    {
     "ename": "ValueError",
     "evalue": "too many values to unpack",
     "output_type": "error",
     "traceback": [
      "\u001b[0;31m---------------------------------------------------------------------------\u001b[0m",
      "\u001b[0;31mValueError\u001b[0m                                Traceback (most recent call last)",
      "\u001b[0;32m<ipython-input-160-c79113875749>\u001b[0m in \u001b[0;36m<module>\u001b[0;34m()\u001b[0m\n\u001b[0;32m----> 1\u001b[0;31m \u001b[0mv\u001b[0m\u001b[0;34m,\u001b[0m \u001b[0mc\u001b[0m \u001b[0;34m=\u001b[0m \u001b[0mmeas_curr_sweep\u001b[0m\u001b[0;34m(\u001b[0m\u001b[0;34m-\u001b[0m\u001b[0;36m1\u001b[0m\u001b[0;34m,\u001b[0m\u001b[0;36m1\u001b[0m\u001b[0;34m,\u001b[0m\u001b[0;36m0.5\u001b[0m\u001b[0;34m)\u001b[0m\u001b[0;34m\u001b[0m\u001b[0m\n\u001b[0m",
      "\u001b[0;31mValueError\u001b[0m: too many values to unpack"
     ]
    },
    {
     "data": {
      "image/png": "[encoded data removed]",
      "text/plain": [
       "<matplotlib.figure.Figure at 0x11f4fe610>"
      ]
     },
     "metadata": {},
     "output_type": "display_data"
    }
   ],
   "source": [
    "v, c, r = meas_curr_sweep(-1,1,0.5)"
   ]
  },
  {
   "cell_type": "code",
   "execution_count": 163,
   "metadata": {
    "collapsed": false
   },
   "outputs": [
    {
     "name": "stdout",
     "output_type": "stream",
     "text": [
      "-1.0 -1.477883e-10\n",
      "-0.5 -9.324197e-11\n",
      "0.0 -1.720907e-11\n",
      "0.5 5.438864e-11\n",
      "1.0 1.249162e-10\n",
      "linear fit results: 7.197e+09 [Ohm], residue 1.136e-01 [V]\n"
     ]
    },
    {
     "data": {
      "image/png": "[encoded data removed]",
      "text/plain": [
       "<matplotlib.figure.Figure at 0x11f49cf50>"
      ]
     },
     "metadata": {},
     "output_type": "display_data"
    }
   ],
   "source": [
    "v, c, r = meas_curr_sweep(-1,1,0.5)"
   ]
  },
  {
   "cell_type": "code",
   "execution_count": 132,
   "metadata": {
    "collapsed": false
   },
   "outputs": [
    {
     "name": "stdout",
     "output_type": "stream",
     "text": [
      "[ 1.   2.2  3.4  4.6  5.8  7.   8.2  9.4]\n"
     ]
    }
   ],
   "source": [
    "from import_all import *\n",
    "print np.arange(1,10, 1.2)\n",
    "print(thihs)"
   ]
  },
  {
   "cell_type": "code",
   "execution_count": null,
   "metadata": {
    "collapsed": true
   },
   "outputs": [],
   "source": [
    "from import_all import *np.linspace"
   ]
  },
  {
   "cell_type": "code",
   "execution_count": 124,
   "metadata": {
    "collapsed": false
   },
   "outputs": [
    {
     "name": "stdout",
     "output_type": "stream",
     "text": [
      "-10 +8.930103E-14A,+9.610645E+01,+2.560000E+02\n",
      "\n",
      "-9 +8.088971E-13A,+9.731738E+01,+2.560000E+02\n",
      "\n",
      "-8 -1.837151E-12A,+9.770020E+01,+2.560000E+02\n",
      "\n",
      "-7 +2.380857E-12A,+9.806543E+01,+2.560000E+02\n",
      "\n",
      "-6 +7.667803E-13A,+9.843164E+01,+2.560000E+02\n",
      "\n",
      "-5 -1.973382E-13A,+9.879688E+01,+2.560000E+02\n",
      "\n",
      "-4 +1.066411E-12A,+9.916211E+01,+2.560000E+02\n",
      "\n",
      "-3 +7.220561E-13A,+9.952734E+01,+2.560000E+02\n",
      "\n",
      "-2 +3.831158E-13A,+9.989258E+01,+2.560000E+02\n",
      "\n",
      "-1 -3.624431E-13A,+1.002754E+02,+2.560000E+02\n",
      "\n",
      "0 +2.044925E-12A,+1.006387E+02,+0.000000E+00\n",
      "\n",
      "1 +1.690018E-14A,+1.010029E+02,+0.000000E+00\n",
      "\n",
      "2 +2.268827E-13A,+1.013672E+02,+0.000000E+00\n",
      "\n",
      "3 +4.107928E-13A,+1.017334E+02,+0.000000E+00\n",
      "\n",
      "4 +3.389935E-13A,+1.020986E+02,+0.000000E+00\n",
      "\n",
      "5 +1.113141E-12A,+1.024639E+02,+0.000000E+00\n",
      "\n",
      "6 +8.669374E-14A,+1.028291E+02,+0.000000E+00\n",
      "\n",
      "7 +5.279974E-14A,+1.031943E+02,+0.000000E+00\n",
      "\n",
      "8 +1.005321E-13A,+1.035596E+02,+0.000000E+00\n",
      "\n",
      "9 +3.374689E-14A,+1.039238E+02,+0.000000E+00\n",
      "\n"
     ]
    }
   ],
   "source": [
    "inpt = my_instrument.write('*RST') \n",
    "for volt in range(-10,10):\n",
    "    v, o = meas_curr(volt)"
   ]
  },
  {
   "cell_type": "code",
   "execution_count": 53,
   "metadata": {
    "collapsed": false
   },
   "outputs": [],
   "source": [
    "inpt = my_instrument.write('*RST')\n",
    "#outp = my_instrument.query('*IDN?')"
   ]
  },
  {
   "cell_type": "code",
   "execution_count": 51,
   "metadata": {
    "collapsed": true
   },
   "outputs": [],
   "source": [
    "outp = my_instrument.query('FETC?')"
   ]
  },
  {
   "cell_type": "code",
   "execution_count": 55,
   "metadata": {
    "collapsed": false
   },
   "outputs": [
    {
     "name": "stdout",
     "output_type": "stream",
     "text": [
      "+3.463901E-15A,+2.631064E+02,+0.000000E+00\n",
      "\n"
     ]
    }
   ],
   "source": [
    "print outp"
   ]
  },
  {
   "cell_type": "code",
   "execution_count": 192,
   "metadata": {
    "collapsed": false
   },
   "outputs": [
    {
     "name": "stdout",
     "output_type": "stream",
     "text": [
      "6487 confirmed\n"
     ]
    }
   ],
   "source": [
    "import gpib\n",
    "reload(gpib)\n",
    "pam = gpib.Picoammeter()"
   ]
  },
  {
   "cell_type": "code",
   "execution_count": 193,
   "metadata": {
    "collapsed": false
   },
   "outputs": [
    {
     "name": "stdout",
     "output_type": "stream",
     "text": [
      "\"test\" is an unique filename!\n",
      "-1.0 -8.408173e-11\n",
      "-0.5 -5.35128e-11\n",
      "0.0 -1.220974e-11\n",
      "0.5 2.652917e-11\n",
      "1.0 6.593308e-11\n",
      "linear fit results: 1.31e+10 [Ohm], residue 1.51e-01 [V]\n"
     ]
    },
    {
     "data": {
      "text/plain": [
       "(array([-1. , -0.5,  0. ,  0.5,  1. ]),\n",
       " array([ -8.40817300e-11,  -5.35128000e-11,  -1.22097400e-11,\n",
       "          2.65291700e-11,   6.59330800e-11]),\n",
       " 13127843761.667423)"
      ]
     },
     "execution_count": 193,
     "metadata": {},
     "output_type": "execute_result"
    },
    {
     "data": {
      "image/png": "[encoded data removed]",
      "text/plain": [
       "<matplotlib.figure.Figure at 0x11f825a90>"
      ]
     },
     "metadata": {},
     "output_type": "display_data"
    }
   ],
   "source": [
    "path = '/Users/nakayamahidenori/Desktop/test'\n",
    "pam.meas_curr_sweep(path, 'test', -1, 1, 0.5)"
   ]
  },
  {
   "cell_type": "code",
   "execution_count": null,
   "metadata": {
    "collapsed": true
   },
   "outputs": [],
   "source": []
  }
 ],
 "metadata": {
  "anaconda-cloud": {},
  "kernelspec": {
   "display_name": "Python [default]",
   "language": "python",
   "name": "python2"
  },
  "language_info": {
   "codemirror_mode": {
    "name": "ipython",
    "version": 2
   },
   "file_extension": ".py",
   "mimetype": "text/x-python",
   "name": "python",
   "nbconvert_exporter": "python",
   "pygments_lexer": "ipython2",
   "version": "2.7.13"
  }
 },
 "nbformat": 4,
 "nbformat_minor": 2
}
