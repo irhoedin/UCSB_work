{
 "cells": [
  {
   "cell_type": "code",
   "execution_count": 1,
   "metadata": {
    "collapsed": false
   },
   "outputs": [
    {
     "name": "stderr",
     "output_type": "stream",
     "text": [
      "[WARNING] [Config      ] Older configuration version detected (0 instead of 19)\n",
      "[WARNING] [Config      ] Upgrading configuration in progress.\n",
      "[INFO   ] [Logger      ] Record log in /Users/nakayamahidenori/.kivy/logs/kivy_17-05-26_0.txt\n",
      "[INFO   ] [Kivy        ] v1.10.0\n",
      "[INFO   ] [Python      ] v2.7.13 |Anaconda custom (x86_64)| (default, Dec 20 2016, 23:05:08) \n",
      "[GCC 4.2.1 Compatible Apple LLVM 6.0 (clang-600.0.57)]\n",
      "[INFO   ] [Factory     ] 194 symbols loaded\n",
      "[INFO   ] [Image       ] Providers: img_tex, img_imageio, img_dds, img_pil, img_gif (img_pygame, img_ffpyplayer ignored)\n",
      "[CRITICAL] [Window      ] Unable to find any valuable Window provider.\n",
      "pygame - ImportError: No module named pygame\n",
      "  File \"/Users/nakayamahidenori/.pyenv/versions/anaconda-4.0.0/lib/python2.7/site-packages/kivy/core/__init__.py\", line 59, in core_select_lib\n",
      "    fromlist=[modulename], level=0)\n",
      "  File \"/Users/nakayamahidenori/.pyenv/versions/anaconda-4.0.0/lib/python2.7/site-packages/kivy/core/window/window_pygame.py\", line 8, in <module>\n",
      "    import pygame\n",
      "\n",
      "[CRITICAL] [App         ] Unable to get a Window, abort.\n"
     ]
    },
    {
     "ename": "SystemExit",
     "evalue": "1",
     "output_type": "error",
     "traceback": [
      "An exception has occurred, use %tb to see the full traceback.\n",
      "\u001b[0;31mSystemExit\u001b[0m\u001b[0;31m:\u001b[0m 1\n"
     ]
    },
    {
     "name": "stderr",
     "output_type": "stream",
     "text": [
      "To exit: use 'exit', 'quit', or Ctrl-D.\n"
     ]
    }
   ],
   "source": [
    "from kivy.app import App\n",
    "from kivy.uix.widget import Widget\n",
    "\n",
    "\n",
    "class PongGame(Widget):\n",
    "    pass\n",
    "\n",
    "\n",
    "class PongApp(App):\n",
    "    def build(self):\n",
    "        return PongGame()\n",
    "\n",
    "\n",
    "if __name__ == '__main__':\n",
    "    PongApp().run()"
   ]
  },
  {
   "cell_type": "code",
   "execution_count": null,
   "metadata": {
    "collapsed": true
   },
   "outputs": [],
   "source": []
  }
 ],
 "metadata": {
  "anaconda-cloud": {},
  "kernelspec": {
   "display_name": "Python [default]",
   "language": "python",
   "name": "python2"
  },
  "language_info": {
   "codemirror_mode": {
    "name": "ipython",
    "version": 2
   },
   "file_extension": ".py",
   "mimetype": "text/x-python",
   "name": "python",
   "nbconvert_exporter": "python",
   "pygments_lexer": "ipython2",
   "version": "2.7.13"
  }
 },
 "nbformat": 4,
 "nbformat_minor": 2
}
