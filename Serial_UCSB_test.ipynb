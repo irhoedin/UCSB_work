{
 "cells": [
  {
   "cell_type": "code",
   "execution_count": 16,
   "metadata": {
    "collapsed": false
   },
   "outputs": [],
   "source": [
    "import serial"
   ]
  },
  {
   "cell_type": "code",
   "execution_count": 17,
   "metadata": {
    "collapsed": true
   },
   "outputs": [],
   "source": [
    "ser = serial.Serial('/dev/tty.usbserial-AI04WTCL', 9600, timeout=1)"
   ]
  },
  {
   "cell_type": "code",
   "execution_count": 18,
   "metadata": {
    "collapsed": false
   },
   "outputs": [
    {
     "data": {
      "text/plain": [
       "'1GOTO(MOVE1)\\r\\n*E\\r\\n'"
      ]
     },
     "execution_count": 18,
     "metadata": {},
     "output_type": "execute_result"
    }
   ],
   "source": [
    "#ser.write('1G')\n",
    "ser.write('1GOTO(MOVE1)\\r\\n')\n",
    "ser.read(50)"
   ]
  },
  {
   "cell_type": "code",
   "execution_count": 19,
   "metadata": {
    "collapsed": false
   },
   "outputs": [
    {
     "data": {
      "text/plain": [
       "'0ON\\r\\n1MI\\r\\n1A50.00\\r\\n1D58333\\r\\n1V1.000\\r\\n1G\\r\\n1D\\r\\n*58333\\r\\n1V\\r\\n*1.000\\r\\n'"
      ]
     },
     "execution_count": 19,
     "metadata": {},
     "output_type": "execute_result"
    }
   ],
   "source": [
    "#As for this communication, carridge return is required.\n",
    "ser.write('0ON\\r\\n')\n",
    "ser.write('1MI\\r\\n')\n",
    "ser.write('1A50.00\\r\\n')\n",
    "ser.write('1D58333\\r\\n')\n",
    "ser.write('1V1.000\\r\\n')\n",
    "ser.write('1G\\r\\n')\n",
    "ser.write('1D\\r\\n')\n",
    "ser.write('1V\\r\\n')\n",
    "ser.read(500)"
   ]
  },
  {
   "cell_type": "code",
   "execution_count": 20,
   "metadata": {
    "collapsed": false
   },
   "outputs": [
    {
     "data": {
      "text/plain": [
       "4"
      ]
     },
     "execution_count": 20,
     "metadata": {},
     "output_type": "execute_result"
    }
   ],
   "source": [
    "ser.write('1H\\r\\n')\n",
    "ser.write('1G\\r\\n')"
   ]
  },
  {
   "cell_type": "code",
   "execution_count": null,
   "metadata": {
    "collapsed": true
   },
   "outputs": [],
   "source": [
    "address = '/dev/tty.usbserial-AI04WTCL'\n",
    "baudrate = 9600\n",
    "timeout = 1\n",
    "\n",
    "class ViX500IM(object):\n",
    "    def connect_module(self, adr=address, br=baudrate, timeout=timeout):\n",
    "        import serial\n",
    "        ser = serial.Serial(adr, br, timout=timeout)\n",
    "        self.move_right=True\n",
    "        ser.write('1MI\\r\\n') #defines an incremental move. Starts from the current position.\n",
    "        \n",
    "    def set_params(self, velocity, travel_len):\n",
    "        \n",
    "        #accelaration: fixed value\n",
    "        ser.write('1A50.00\\r\\n') \n",
    "        \n",
    "        #convert [mm] to [steps]. 50000 steps/3 mm\n",
    "        travel_len_steps = str(int(float(travel_len)*(50000/3.)))\n",
    "        ser.write('1D%s\\r\\n' %travel_len_steps)\n",
    "        \n",
    "        #convert [mm/s] to rev/s. 1rev/3 mm.\n",
    "        vel_rev = str(round(velocity/3., 3))\n",
    "        ser.write('1V%s\\r\\n' %vel_rev)\n",
    "        \n",
    "    def run(self):\n",
    "        if not self.move_right:\n",
    "            ser.write('1H\\r\\n')\n",
    "            \n",
    "        ser.write('1G\\r\\n')\n",
    "        self.move_right=True\n",
    "        \n",
    "    def back(self):\n",
    "        if self.move_righ:\n",
    "            ser.write('1H\\r\\n')\n",
    "            \n",
    "        ser.write('1G\\r\\n')\n",
    "        self.move_right=False\n",
    "        \n",
    "            \n",
    "        \n"
   ]
  },
  {
   "cell_type": "code",
   "execution_count": 5,
   "metadata": {
    "collapsed": false
   },
   "outputs": [
    {
     "data": {
      "text/plain": [
       "3.444"
      ]
     },
     "execution_count": 5,
     "metadata": {},
     "output_type": "execute_result"
    }
   ],
   "source": [
    "round(3.444444, 3)"
   ]
  },
  {
   "cell_type": "code",
   "execution_count": 7,
   "metadata": {
    "collapsed": false
   },
   "outputs": [
    {
     "data": {
      "text/plain": [
       "'3.3'"
      ]
     },
     "execution_count": 7,
     "metadata": {},
     "output_type": "execute_result"
    }
   ],
   "source": [
    "str(round(3.332,1))"
   ]
  },
  {
   "cell_type": "code",
   "execution_count": null,
   "metadata": {
    "collapsed": true
   },
   "outputs": [],
   "source": []
  }
 ],
 "metadata": {
  "anaconda-cloud": {},
  "kernelspec": {
   "display_name": "Python [default]",
   "language": "python",
   "name": "python2"
  },
  "language_info": {
   "codemirror_mode": {
    "name": "ipython",
    "version": 2
   },
   "file_extension": ".py",
   "mimetype": "text/x-python",
   "name": "python",
   "nbconvert_exporter": "python",
   "pygments_lexer": "ipython2",
   "version": "2.7.13"
  }
 },
 "nbformat": 4,
 "nbformat_minor": 2
}
