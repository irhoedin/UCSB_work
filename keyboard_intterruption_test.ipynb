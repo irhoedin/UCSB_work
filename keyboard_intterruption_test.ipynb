{
 "cells": [
  {
   "cell_type": "markdown",
   "metadata": {},
   "source": [
    "Sometimes I want to get out from a loop, do some process, then interrupt the kernel. This situation can happen especially when I am playing with external measurement devices such as Ketheley sourcemeters. In Jupyter notebook, if you press the square button or \"interrupt kernel\" button, the kernel stops immediately, and give \"KeyboardInterrupt\" error. So, you can handle this situation with try-except scheme and use this error as a queue to go out from the running process."
   ]
  },
  {
   "cell_type": "code",
   "execution_count": 2,
   "metadata": {
    "collapsed": false
   },
   "outputs": [
    {
     "name": "stdout",
     "output_type": "stream",
     "text": [
      "0\n",
      "1\n",
      "2\n",
      "interrupted\n"
     ]
    }
   ],
   "source": [
    "import time\n",
    "i = 0\n",
    "while True:\n",
    "    try:\n",
    "        print i\n",
    "        i += 1\n",
    "        time.sleep(1)\n",
    "        \n",
    "    except KeyboardInterrupt:\n",
    "        print \"interrupted by keyboard\"\n",
    "        break"
   ]
  },
  {
   "cell_type": "code",
   "execution_count": 4,
   "metadata": {
    "collapsed": false
   },
   "outputs": [],
   "source": [
    "from keyboard_interrupt_test import *"
   ]
  },
  {
   "cell_type": "code",
   "execution_count": 5,
   "metadata": {
    "collapsed": false
   },
   "outputs": [
    {
     "name": "stdout",
     "output_type": "stream",
     "text": [
      "0\n",
      "1\n",
      "2\n",
      "3\n",
      "interrupted by keyboard\n"
     ]
    },
    {
     "data": {
      "text/plain": [
       "1"
      ]
     },
     "execution_count": 5,
     "metadata": {},
     "output_type": "execute_result"
    }
   ],
   "source": [
    "test()"
   ]
  },
  {
   "cell_type": "code",
   "execution_count": null,
   "metadata": {
    "collapsed": true
   },
   "outputs": [],
   "source": []
  }
 ],
 "metadata": {
  "anaconda-cloud": {},
  "kernelspec": {
   "display_name": "Python [default]",
   "language": "python",
   "name": "python2"
  },
  "language_info": {
   "codemirror_mode": {
    "name": "ipython",
    "version": 2
   },
   "file_extension": ".py",
   "mimetype": "text/x-python",
   "name": "python",
   "nbconvert_exporter": "python",
   "pygments_lexer": "ipython2",
   "version": "2.7.13"
  }
 },
 "nbformat": 4,
 "nbformat_minor": 2
}
